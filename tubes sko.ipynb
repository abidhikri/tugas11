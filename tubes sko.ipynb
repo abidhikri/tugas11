{
  "nbformat": 4,
  "nbformat_minor": 0,
  "metadata": {
    "colab": {
      "name": "Untitled1.ipynb",
      "provenance": [],
      "authorship_tag": "ABX9TyPRD3hIQHmOwmeFzNaRsH48",
      "include_colab_link": true
    },
    "kernelspec": {
      "name": "python3",
      "display_name": "Python 3"
    }
  },
  "cells": [
    {
      "cell_type": "markdown",
      "metadata": {
        "id": "view-in-github",
        "colab_type": "text"
      },
      "source": [
        "<a href=\"https://colab.research.google.com/github/abidhikri/tugas13/blob/main/tubes%20sko.ipynb\" target=\"_parent\"><img src=\"https://colab.research.google.com/assets/colab-badge.svg\" alt=\"Open In Colab\"/></a>"
      ]
    },
    {
      "cell_type": "markdown",
      "metadata": {
        "id": "PIw2xAbq9xj5"
      },
      "source": [
        "# TUBES SKO\r\n",
        "UJI RISE TIME BUDGET DAN LINK POWER BUDGET"
      ]
    },
    {
      "cell_type": "code",
      "metadata": {
        "id": "XWi4Uvc-9vTD"
      },
      "source": [
        "from math import log10, sqrt"
      ],
      "execution_count": 1,
      "outputs": []
    },
    {
      "cell_type": "code",
      "metadata": {
        "id": "C3myY1cw-C4T"
      },
      "source": [
        "#-- Kabel Fiber optik G.652 - SI-SM, Spesifikasi Kabel yang harus dipunya.\r\n",
        "L=119 #km << Jarak\r\n",
        "Hspl=2 #km << jarak kabel yang disambungkan\r\n",
        "disp_M=17e-12 #s/km.nm (dispersi material)\r\n",
        "alpha_f=0.2 #dB/km << Redaman\r\n"
      ],
      "execution_count": 2,
      "outputs": []
    },
    {
      "cell_type": "code",
      "metadata": {
        "id": "fv3AHuGU-p7v"
      },
      "source": [
        "##-- Pengirim (sumber cahaya)\r\n",
        "Ptx=8 #mw << Daya yang dikirimkan LASER/LED pada Fiber Optik\r\n",
        "Ptx_db=10*log10(Ptx)\r\n",
        "spektral=0.1 #nm\r\n",
        "t_tx=35e-12 #s << Risetime\r\n",
        "Mod_NRZ=0.7 #NRZ << Modulasi\r\n",
        "Mod_RZ=0.35 #RZ << Modulasi\r\n",
        "Br= 2.5e9 #2.5 Gbps << Bitrate(GPON umum)\r\n",
        "Tb=1/Br #s << Time Bit, perdetik 2 milyar bit yang dikirimkan"
      ],
      "execution_count": 63,
      "outputs": []
    },
    {
      "cell_type": "code",
      "metadata": {
        "id": "G03Di0h7_m0F"
      },
      "source": [
        "#-- Pengirim\r\n",
        "sensitivitas=-27 #dBm << kalau ada daya terima datang kurang dari sensitivtas, maka tidak terpenuhi LPB\r\n",
        "t_rx=35e-12 #s << rise time pd rx"
      ],
      "execution_count": 64,
      "outputs": []
    },
    {
      "cell_type": "code",
      "metadata": {
        "id": "5L1RD-uqAHpe"
      },
      "source": [
        "#-- Redaman KanaL\r\n",
        "N_c=2 # << Jumlah Konektor karena P2P maka tidak ada konektor ditengah2nya.\r\n",
        "alpha_c=0.1 #0.1 dB/titik\r\n",
        "N_sp=(L/Hspl)-1 # << jummlah splice, (Panjang kabel/Haspel)-1\r\n",
        "alpha_sp=0.1 #dB/titik << Redaman pertitik\r\n",
        "Ms=3 #dB << Redaman tidak terduga"
      ],
      "execution_count": 65,
      "outputs": []
    },
    {
      "cell_type": "markdown",
      "metadata": {
        "id": "mud4w-hUA-ot"
      },
      "source": [
        "#LINK POWER BUDGET\r\n",
        "menggunakan Rumus\r\n",
        "\r\n",
        "$$\\alpha_T=2\\alpha_c+N{sp}\\alpha_{sp}+L\\alpha_f+M_s$$"
      ]
    },
    {
      "cell_type": "code",
      "metadata": {
        "colab": {
          "base_uri": "https://localhost:8080/"
        },
        "id": "X9pxecEPA9M3",
        "outputId": "f3dcd74b-5761-43be-a4ae-19b2ea9f0bd0"
      },
      "source": [
        "alpha_t=N_c*alpha_c+N_sp*alpha_sp+L*alpha_f+Ms\r\n",
        "print(\"Redaman Kabel\",alpha_t,\"debeee\")"
      ],
      "execution_count": 66,
      "outputs": [
        {
          "output_type": "stream",
          "text": [
            "Redaman Kabel 32.85 debeee\n"
          ],
          "name": "stdout"
        }
      ]
    },
    {
      "cell_type": "code",
      "metadata": {
        "id": "V3Ovf7vEB_f0"
      },
      "source": [
        "#--daya terima\r\n",
        "Prx=Ptx_db-alpha_t"
      ],
      "execution_count": 67,
      "outputs": []
    },
    {
      "cell_type": "code",
      "metadata": {
        "colab": {
          "base_uri": "https://localhost:8080/"
        },
        "id": "JvI6Jn6eC7Nu",
        "outputId": "377ebb2a-574b-41d8-c9ae-0e99e825e417"
      },
      "source": [
        "Prx"
      ],
      "execution_count": 68,
      "outputs": [
        {
          "output_type": "execute_result",
          "data": {
            "text/plain": [
              "-23.819100130080564"
            ]
          },
          "metadata": {
            "tags": []
          },
          "execution_count": 68
        }
      ]
    },
    {
      "cell_type": "code",
      "metadata": {
        "colab": {
          "base_uri": "https://localhost:8080/"
        },
        "id": "fike3ydUC8ix",
        "outputId": "da63e45a-5699-46c4-95ad-4f032f597b96"
      },
      "source": [
        "if Prx > sensitivitas:\r\n",
        "  print(\"LPB,terpenuhi\")\r\n",
        "else:\r\n",
        "    print(\"Hitung Ulang yaaa\")"
      ],
      "execution_count": 69,
      "outputs": [
        {
          "output_type": "stream",
          "text": [
            "LPB,terpenuhi\n"
          ],
          "name": "stdout"
        }
      ]
    },
    {
      "cell_type": "markdown",
      "metadata": {
        "id": "9TvxioOmE1Pi"
      },
      "source": [
        "# RISE TIME BUDGET (MEMBANDINGKAN DISPERSI)\r\n",
        "\r\n",
        "$$t_{sys}=\\sqrt{t_tx}^2+t_{mat}^2+t_{mod}^2+t_{wg}^2+t_{rx}}. $$"
      ]
    },
    {
      "cell_type": "code",
      "metadata": {
        "id": "ibiOkUM5EYGH"
      },
      "source": [
        "t_mat=disp_M*L*spektral\r\n",
        "t_wg=0 #diabaikan\r\n",
        "t_mod=0 #SM karena menggunakan kabel tidak lebih dari 1\r\n",
        "\r\n",
        "t_sys=sqrt(t_tx**2+\r\n",
        "           t_mat**2+\r\n",
        "           t_mod**2+\r\n",
        "           t_wg**2+\r\n",
        "           t_rx**2)\r\n",
        "\r\n",
        "#t_mat = t material\r\n",
        "#t_wg = t \r\n",
        "#t_mod = t modulasi"
      ],
      "execution_count": 70,
      "outputs": []
    },
    {
      "cell_type": "code",
      "metadata": {
        "colab": {
          "base_uri": "https://localhost:8080/"
        },
        "id": "mf4GBWIjIRZT",
        "outputId": "56eb3ff6-1404-4064-e54f-d109d4375feb"
      },
      "source": [
        "t_sys"
      ],
      "execution_count": 71,
      "outputs": [
        {
          "output_type": "execute_result",
          "data": {
            "text/plain": [
              "2.0826735221824855e-10"
            ]
          },
          "metadata": {
            "tags": []
          },
          "execution_count": 71
        }
      ]
    },
    {
      "cell_type": "code",
      "metadata": {
        "colab": {
          "base_uri": "https://localhost:8080/"
        },
        "id": "70frg6x9KI2j",
        "outputId": "71bcfffd-b314-4cce-902d-887b4b54b144"
      },
      "source": [
        "t_tx"
      ],
      "execution_count": 72,
      "outputs": [
        {
          "output_type": "execute_result",
          "data": {
            "text/plain": [
              "3.5e-11"
            ]
          },
          "metadata": {
            "tags": []
          },
          "execution_count": 72
        }
      ]
    },
    {
      "cell_type": "code",
      "metadata": {
        "colab": {
          "base_uri": "https://localhost:8080/"
        },
        "id": "9_vckNeWIS3y",
        "outputId": "54f0b03a-1799-4b50-e0c6-e01a56caf86a"
      },
      "source": [
        "#--menghitung system\r\n",
        "if (Tb*Mod_NRZ > t_sys) & (Tb*Mod_RZ > t_sys):\r\n",
        "  print(\"RTB, Terpenuhi\")\r\n",
        "elif Tb*Mod_NRZ > t_sys:\r\n",
        "  print(\"RTB untuk NRZ, terpenuhi\")\r\n",
        "elif Tb*Mod_RZ > t_sys:\r\n",
        "  print(\"RTB untuk RZ, Terpenuhi\")\r\n",
        "else:\r\n",
        "  print(\"Hitung ulang gann\")"
      ],
      "execution_count": 73,
      "outputs": [
        {
          "output_type": "stream",
          "text": [
            "RTB, Terpenuhi\n"
          ],
          "name": "stdout"
        }
      ]
    },
    {
      "cell_type": "code",
      "metadata": {
        "id": "Mgpx7H5GJh5b"
      },
      "source": [
        ""
      ],
      "execution_count": 32,
      "outputs": []
    }
  ]
}