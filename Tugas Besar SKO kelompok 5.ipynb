{
  "nbformat": 4,
  "nbformat_minor": 0,
  "metadata": {
    "colab": {
      "name": "Untitled1.ipynb",
      "provenance": [],
      "include_colab_link": true
    },
    "kernelspec": {
      "name": "python3",
      "display_name": "Python 3"
    }
  },
  "cells": [
    {
      "cell_type": "markdown",
      "metadata": {
        "id": "view-in-github",
        "colab_type": "text"
      },
      "source": [
        "<a href=\"https://colab.research.google.com/github/abidhikri/tugas13/blob/main/Tugas%20Besar%20SKO%20kelompok%205.ipynb\" target=\"_parent\"><img src=\"https://colab.research.google.com/assets/colab-badge.svg\" alt=\"Open In Colab\"/></a>"
      ]
    },
    {
      "cell_type": "markdown",
      "metadata": {
        "id": "PIw2xAbq9xj5"
      },
      "source": [
        "# TUBES SKO\r\n",
        "UJI RISE TIME BUDGET DAN LINK POWER BUDGET"
      ]
    },
    {
      "cell_type": "code",
      "metadata": {
        "id": "XWi4Uvc-9vTD"
      },
      "source": [
        "from math import log10, sqrt"
      ],
      "execution_count": null,
      "outputs": []
    },
    {
      "cell_type": "code",
      "metadata": {
        "id": "C3myY1cw-C4T"
      },
      "source": [
        "#-- Kabel Fiber optik G.652 - SI-SM, Spesifikasi Kabel yang harus dipunya.\r\n",
        "L=25 #km << Jarak, Cimahi ke Ujung berung\r\n",
        "Hspl=2 #km <<(haspel) jarak kabel yang disambungkan\r\n",
        "disp_M=3.5e-12 #s/km.nm (dispersi material), perubahan kecepatan cahay dari panjang gelombang\r\n",
        "alpha_f=0.3 #dB/km << Redaman FO\r\n"
      ],
      "execution_count": null,
      "outputs": []
    },
    {
      "cell_type": "code",
      "metadata": {
        "id": "fv3AHuGU-p7v"
      },
      "source": [
        "##-- Pengirim (sumber cahaya)\r\n",
        "Ptx=3 #mw << (Daya transmisi) Daya yang dikirimkan LASER/LED pada Fiber Optik\r\n",
        "Ptx_db=5 #dBw\r\n",
        "spektral=0.1 #nm\r\n",
        "Mod_NRZ=0.7 #modulasi NRZ\r\n",
        "Mod_RZ=0.35 #modulasi RZ\r\n",
        "t_tx=60e-12 #s << Risetime pengirim (TX)\r\n",
        "Br=2.5e-9 #2.5 Gbps << Bitrate(GPON umum)\r\n",
        "Tb=1/Br #s << Time Bit, perdetik 2 milyar bit yang dikirimkan (ketentuan)"
      ],
      "execution_count": null,
      "outputs": []
    },
    {
      "cell_type": "code",
      "metadata": {
        "id": "G03Di0h7_m0F"
      },
      "source": [
        "#-- Penerima\r\n",
        "sensitivitas=-27 #dBm << kalau ada daya terima datang kurang dari sensitivtas, maka tidak terpenuhi LPB\r\n",
        "t_rx=35e-12 #s << rise time pd rx"
      ],
      "execution_count": null,
      "outputs": []
    },
    {
      "cell_type": "code",
      "metadata": {
        "id": "5L1RD-uqAHpe"
      },
      "source": [
        "#-- Redaman KanaL\r\n",
        "N_c=2 # << Jumlah Konektor karena P2P maka tidak ada konektor ditengah2nya.\r\n",
        "alpha_c=0.2 #0.1 dB/titik, Redaman Konektor\r\n",
        "N_sp=(L/Hspl)-1 # << jummlah splice, (Panjang kabel/Haspel)-1<< harus di -1 karena akan terjadi perputaran dan tidak tetap terhadap splice.\r\n",
        "alpha_sp=0.1 #dB/titik << Redaman pertitik\r\n",
        "Ms=8 #dB << Redaman tidak terduga"
      ],
      "execution_count": null,
      "outputs": []
    },
    {
      "cell_type": "markdown",
      "metadata": {
        "id": "mud4w-hUA-ot"
      },
      "source": [
        "#LINK POWER BUDGET\r\n",
        "menggunakan Rumus\r\n",
        "\r\n",
        "$$\\alpha_T=2\\alpha_c+N{sp}\\alpha_{sp}+L\\alpha_f+M_s$$"
      ]
    },
    {
      "cell_type": "code",
      "metadata": {
        "colab": {
          "base_uri": "https://localhost:8080/"
        },
        "id": "X9pxecEPA9M3",
        "outputId": "10651b54-2ad0-4d72-c0d4-77f30d2fbd41"
      },
      "source": [
        "alpha_t=N_c*alpha_c+N_sp*alpha_sp+L*alpha_f+Ms\r\n",
        "print(\"Redaman Kabel\",alpha_t,\"dB\")"
      ],
      "execution_count": null,
      "outputs": [
        {
          "output_type": "stream",
          "text": [
            "Redaman Kabel 17.05 dB\n"
          ],
          "name": "stdout"
        }
      ]
    },
    {
      "cell_type": "code",
      "metadata": {
        "id": "V3Ovf7vEB_f0"
      },
      "source": [
        "#--daya terima\r\n",
        "Prx=Ptx_db-alpha_t"
      ],
      "execution_count": null,
      "outputs": []
    },
    {
      "cell_type": "code",
      "metadata": {
        "colab": {
          "base_uri": "https://localhost:8080/"
        },
        "id": "JvI6Jn6eC7Nu",
        "outputId": "8e70d382-7283-456f-a642-b078894a4926"
      },
      "source": [
        "Prx"
      ],
      "execution_count": null,
      "outputs": [
        {
          "output_type": "execute_result",
          "data": {
            "text/plain": [
              "-12.05"
            ]
          },
          "metadata": {
            "tags": []
          },
          "execution_count": 168
        }
      ]
    },
    {
      "cell_type": "code",
      "metadata": {
        "colab": {
          "base_uri": "https://localhost:8080/"
        },
        "id": "fike3ydUC8ix",
        "outputId": "72be553c-fce4-4faf-a182-ab66cf94ebfc"
      },
      "source": [
        "if Prx > sensitivitas:\r\n",
        "  print(\"LPB,terpenuhi\")\r\n",
        "else:\r\n",
        "    print(\"Hitung Ulang yaaa\")"
      ],
      "execution_count": null,
      "outputs": [
        {
          "output_type": "stream",
          "text": [
            "LPB,terpenuhi\n"
          ],
          "name": "stdout"
        }
      ]
    },
    {
      "cell_type": "markdown",
      "metadata": {
        "id": "9TvxioOmE1Pi"
      },
      "source": [
        "# RISE TIME BUDGET (MEMBANDINGKAN DISPERSI)\r\n",
        "\r\n",
        "$$t_{sys}=\\sqrt{t_tx}^2+t_{mat}^2+t_{mod}^2+t_{wg}^2+t_{rx}}. $$"
      ]
    },
    {
      "cell_type": "code",
      "metadata": {
        "id": "ibiOkUM5EYGH"
      },
      "source": [
        "t_mat=disp_M*L*spektral\r\n",
        "t_wg=0 #diabaikan\r\n",
        "t_mod=0 #SM karena menggunakan kabel tidak lebih dari 1\r\n",
        "\r\n",
        "t_sys=sqrt(t_tx**2+\r\n",
        "           t_mat**2+\r\n",
        "           t_mod**2+\r\n",
        "           t_wg**2+\r\n",
        "           t_rx**2)\r\n",
        "#t_tx = Rise time Pengirim\r\n",
        "#t_rx = rise time penerima\r\n",
        "#t_mat = t material\r\n",
        "#t_wg = t\r\n",
        "#t_mod = t modulasi"
      ],
      "execution_count": null,
      "outputs": []
    },
    {
      "cell_type": "code",
      "metadata": {
        "colab": {
          "base_uri": "https://localhost:8080/"
        },
        "id": "mf4GBWIjIRZT",
        "outputId": "a9862e0f-6aa9-4500-e4ff-3ac68570763d"
      },
      "source": [
        "t_sys"
      ],
      "execution_count": null,
      "outputs": [
        {
          "output_type": "execute_result",
          "data": {
            "text/plain": [
              "7.001115982470224e-11"
            ]
          },
          "metadata": {
            "tags": []
          },
          "execution_count": 171
        }
      ]
    },
    {
      "cell_type": "code",
      "metadata": {
        "colab": {
          "base_uri": "https://localhost:8080/"
        },
        "id": "70frg6x9KI2j",
        "outputId": "1884db84-7abd-4bd3-ac63-211d0e767899"
      },
      "source": [
        "t_tx"
      ],
      "execution_count": null,
      "outputs": [
        {
          "output_type": "execute_result",
          "data": {
            "text/plain": [
              "6e-11"
            ]
          },
          "metadata": {
            "tags": []
          },
          "execution_count": 172
        }
      ]
    },
    {
      "cell_type": "code",
      "metadata": {
        "colab": {
          "base_uri": "https://localhost:8080/"
        },
        "id": "9_vckNeWIS3y",
        "outputId": "11d0f86e-af56-48ce-c8c1-a551de6cd6ae"
      },
      "source": [
        "#--menghitung system\r\n",
        "if (Tb*Mod_NRZ > t_sys) & (Tb*Mod_RZ > t_sys):\r\n",
        "  print(\"RTB, Terpenuhi\")\r\n",
        "elif Tb*Mod_NRZ > t_sys:\r\n",
        "  print(\"RTB untuk NRZ, terpenuhi\")\r\n",
        "elif Tb*Mod_RZ > t_sys:\r\n",
        "  print(\"RTB untuk RZ, Terpenuhi\")\r\n",
        "else:\r\n",
        "  print(\"Hitung ulang gann\")"
      ],
      "execution_count": null,
      "outputs": [
        {
          "output_type": "stream",
          "text": [
            "RTB, Terpenuhi\n"
          ],
          "name": "stdout"
        }
      ]
    },
    {
      "cell_type": "code",
      "metadata": {
        "id": "Mgpx7H5GJh5b"
      },
      "source": [
        ""
      ],
      "execution_count": null,
      "outputs": []
    }
  ]
}