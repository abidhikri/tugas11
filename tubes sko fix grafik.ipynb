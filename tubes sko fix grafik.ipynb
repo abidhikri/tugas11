{
  "nbformat": 4,
  "nbformat_minor": 0,
  "metadata": {
    "colab": {
      "name": "Untitled1.ipynb",
      "provenance": [],
      "include_colab_link": true
    },
    "kernelspec": {
      "name": "python3",
      "display_name": "Python 3"
    }
  },
  "cells": [
    {
      "cell_type": "markdown",
      "metadata": {
        "id": "view-in-github",
        "colab_type": "text"
      },
      "source": [
        "<a href=\"https://colab.research.google.com/github/abidhikri/tugas13/blob/main/tubes%20sko%20fix%20grafik.ipynb\" target=\"_parent\"><img src=\"https://colab.research.google.com/assets/colab-badge.svg\" alt=\"Open In Colab\"/></a>"
      ]
    },
    {
      "cell_type": "markdown",
      "metadata": {
        "id": "PIw2xAbq9xj5"
      },
      "source": [
        "# TUBES SKO\r\n",
        "UJI RISE TIME BUDGET DAN LINK POWER BUDGET"
      ]
    },
    {
      "cell_type": "code",
      "metadata": {
        "id": "XWi4Uvc-9vTD"
      },
      "source": [
        "from math import log10, sqrt\r\n",
        "import numpy as np\r\n",
        "import matplotlib.pyplot as plt"
      ],
      "execution_count": 270,
      "outputs": []
    },
    {
      "cell_type": "code",
      "metadata": {
        "id": "C3myY1cw-C4T"
      },
      "source": [
        "#-- Kabel Fiber optik G.652 - SI-SM, Spesifikasi Kabel yang harus dipunya.\r\n",
        "L=np.arange(1,26,1) #km << Jarak link seluruhnya, batas agar diketahui RTB terpenuhi ialah 77KM.\r\n",
        "Hspl=2 #km << jarak kabel yang disambungkan\r\n",
        "disp_M=3.5e-12 #s/km.nm (dispersi material)\r\n",
        "alpha_f=0.3 #dB/km << Redaman serat optik\r\n"
      ],
      "execution_count": 336,
      "outputs": []
    },
    {
      "cell_type": "code",
      "metadata": {
        "id": "fv3AHuGU-p7v"
      },
      "source": [
        "##-- Pengirim (sumber cahaya)\r\n",
        "Ptx=3 #mw << Daya yang dikirimkan LASER/LED pada Fiber Optik\r\n",
        "Ptx_db=5 #dBw\r\n",
        "spektral=0.1 #nm << Lebar spektral\r\n",
        "t_tx=60e-12 #s << Risetime TX\r\n",
        "Mod_NRZ=0.7 #NRZ << Modulasi NRZ\r\n",
        "Mod_RZ=0.35 #RZ << Modulasi RZ\r\n",
        "Br= 2.5e9 #2.5 Gbps << Bitrate(GPON umum)\r\n",
        "Tb=1/Br #s << Time Bit, perdetik 2 milyar bit yang dikirimkan"
      ],
      "execution_count": 337,
      "outputs": []
    },
    {
      "cell_type": "code",
      "metadata": {
        "id": "G03Di0h7_m0F"
      },
      "source": [
        "#-- Pengirim\r\n",
        "sensitivitas=-27 #dBm << kalau ada daya terima datang kurang dari sensitivtas, maka tidak terpenuhi LPB\r\n",
        "t_rx=35e-12 #s << rise time pd rx"
      ],
      "execution_count": 338,
      "outputs": []
    },
    {
      "cell_type": "code",
      "metadata": {
        "id": "5L1RD-uqAHpe"
      },
      "source": [
        "#-- Redaman KanaL\r\n",
        "N_c=2 # << konektor, Jumlah Konektor karena P2P maka tidak ada konektor ditengah2nya.\r\n",
        "alpha_c=0.2 #0.1 dB/titik\r\n",
        "N_sp=(L/Hspl)-1 # << jummlah splice, (Panjang kabel/Haspel)-1\r\n",
        "alpha_sp=0.1 #dB/titik << Redaman persplice\r\n",
        "Ms=8 #dB << Redaman tidak terduga"
      ],
      "execution_count": 339,
      "outputs": []
    },
    {
      "cell_type": "markdown",
      "metadata": {
        "id": "mud4w-hUA-ot"
      },
      "source": [
        "#LINK POWER BUDGET\r\n",
        "menggunakan Rumus\r\n",
        "\r\n",
        "$$\\alpha_T=2\\alpha_c+N{sp}\\alpha_{sp}+L\\alpha_f+M_s$$"
      ]
    },
    {
      "cell_type": "code",
      "metadata": {
        "id": "X9pxecEPA9M3"
      },
      "source": [
        "alpha_t=N_c*alpha_c+N_sp*alpha_sp+L*alpha_f+Ms"
      ],
      "execution_count": 340,
      "outputs": []
    },
    {
      "cell_type": "code",
      "metadata": {
        "id": "C0fNmLONh692"
      },
      "source": [
        "#daya terima\r\n",
        "Prx=Ptx_db-alpha_t"
      ],
      "execution_count": 356,
      "outputs": []
    },
    {
      "cell_type": "code",
      "metadata": {
        "colab": {
          "base_uri": "https://localhost:8080/"
        },
        "id": "JvI6Jn6eC7Nu",
        "outputId": "97745bc4-eedb-4cee-ce17-5f3f37fe0432"
      },
      "source": [
        "Prx"
      ],
      "execution_count": 357,
      "outputs": [
        {
          "output_type": "execute_result",
          "data": {
            "text/plain": [
              "array([ -3.65,  -4.  ,  -4.35,  -4.7 ,  -5.05,  -5.4 ,  -5.75,  -6.1 ,\n",
              "        -6.45,  -6.8 ,  -7.15,  -7.5 ,  -7.85,  -8.2 ,  -8.55,  -8.9 ,\n",
              "        -9.25,  -9.6 ,  -9.95, -10.3 , -10.65, -11.  , -11.35, -11.7 ,\n",
              "       -12.05])"
            ]
          },
          "metadata": {
            "tags": []
          },
          "execution_count": 357
        }
      ]
    },
    {
      "cell_type": "code",
      "metadata": {
        "id": "fike3ydUC8ix"
      },
      "source": [
        "#(if Prx > sensitivitas:\r\n",
        "#   print(\"LPB,terpenuhi\")\r\n",
        "#else:\r\n",
        "#   print(\"Hitung Ulang yaaa\")"
      ],
      "execution_count": 358,
      "outputs": []
    },
    {
      "cell_type": "markdown",
      "metadata": {
        "id": "9TvxioOmE1Pi"
      },
      "source": [
        "# RISE TIME BUDGET (MEMBANDINGKAN DISPERSI)\r\n",
        "\r\n",
        "$$t_{sys}=\\sqrt{t_tx}^2+t_{mat}^2+t_{mod}^2+t_{wg}^2+t_{rx}}. $$"
      ]
    },
    {
      "cell_type": "code",
      "metadata": {
        "id": "ibiOkUM5EYGH"
      },
      "source": [
        "t_mat=disp_M*L*spektral\r\n",
        "t_wg=0 #diabaikan\r\n",
        "t_mod=0 #SM karena menggunakan kabel tidak lebih dari 1\r\n",
        "\r\n",
        "t_sys=np.sqrt(t_tx**2+\r\n",
        "           t_mat**2+\r\n",
        "           t_mod**2+\r\n",
        "           t_wg**2+\r\n",
        "           t_rx**2)\r\n",
        "\r\n",
        "#t_mat = t material\r\n",
        "#t_wg = t \r\n",
        "#t_mod = t modulasi"
      ],
      "execution_count": 359,
      "outputs": []
    },
    {
      "cell_type": "code",
      "metadata": {
        "colab": {
          "base_uri": "https://localhost:8080/"
        },
        "id": "mf4GBWIjIRZT",
        "outputId": "d2ef481b-15a0-463d-ca75-a4629defe6f0"
      },
      "source": [
        "t_sys"
      ],
      "execution_count": 360,
      "outputs": [
        {
          "output_type": "execute_result",
          "data": {
            "text/plain": [
              "array([6.94631017e-11, 6.94657470e-11, 6.94701555e-11, 6.94763269e-11,\n",
              "       6.94842608e-11, 6.94939566e-11, 6.95054135e-11, 6.95186306e-11,\n",
              "       6.95336070e-11, 6.95503415e-11, 6.95688328e-11, 6.95890796e-11,\n",
              "       6.96110803e-11, 6.96348332e-11, 6.96603366e-11, 6.96875886e-11,\n",
              "       6.97165870e-11, 6.97473297e-11, 6.97798144e-11, 6.98140387e-11,\n",
              "       6.98500000e-11, 6.98876956e-11, 6.99271228e-11, 6.99682785e-11,\n",
              "       7.00111598e-11])"
            ]
          },
          "metadata": {
            "tags": []
          },
          "execution_count": 360
        }
      ]
    },
    {
      "cell_type": "code",
      "metadata": {
        "colab": {
          "base_uri": "https://localhost:8080/"
        },
        "id": "70frg6x9KI2j",
        "outputId": "eb5ae821-96a2-4b86-f518-a94af51e3ce8"
      },
      "source": [
        "t_tx"
      ],
      "execution_count": 361,
      "outputs": [
        {
          "output_type": "execute_result",
          "data": {
            "text/plain": [
              "6e-11"
            ]
          },
          "metadata": {
            "tags": []
          },
          "execution_count": 361
        }
      ]
    },
    {
      "cell_type": "code",
      "metadata": {
        "colab": {
          "base_uri": "https://localhost:8080/",
          "height": 313
        },
        "id": "9_vckNeWIS3y",
        "outputId": "6df392d8-1e56-4cd6-b754-708049c68bd8"
      },
      "source": [
        "plt.plot(L,Prx) #untuk menampilkan gambar (jarak terhadap daya diterima, semakin jauh jarak semakin turun dayanya)\r\n",
        "plt.xlabel(\"Jarak (km)\") #agar lebih jelas grafik dari jarak\r\n",
        "plt.ylabel('Daya terima (dBm)') #agar lebih jelas grafik dari daya terima\r\n",
        "plt.title(\"Kurva Link Power Budget\") #untuk memperjelas grafik"
      ],
      "execution_count": 362,
      "outputs": [
        {
          "output_type": "execute_result",
          "data": {
            "text/plain": [
              "Text(0.5, 1.0, 'Kurva Link Power Budget')"
            ]
          },
          "metadata": {
            "tags": []
          },
          "execution_count": 362
        },
        {
          "output_type": "display_data",
          "data": {
            "image/png": "[encoded data removed]",
            "text/plain": [
              "<Figure size 432x288 with 1 Axes>"
            ]
          },
          "metadata": {
            "tags": [],
            "needs_background": "light"
          }
        }
      ]
    },
    {
      "cell_type": "code",
      "metadata": {
        "id": "wDKnXooIdJZF",
        "outputId": "72703449-8eb1-4aed-b488-463333ac06d7",
        "colab": {
          "base_uri": "https://localhost:8080/",
          "height": 313
        }
      },
      "source": [
        "plt.plot(L,t_sys) #untuk menampilkan gambar (jarak terhadap daya diterima, semakin jauh jarak dispersi semakin besar dan jelek, akan terjadinya interperens)\r\n",
        "plt.xlabel(\"Jarak (km)\") #agar lebih jelas grafik dari jarak\r\n",
        "plt.ylabel('Dispersi sistem (s)') #agar lebih jelas grafik dari daya terima\r\n",
        "plt.title(\"Kurva Rise Time Budget\") #untuk memperjelas grafik"
      ],
      "execution_count": 363,
      "outputs": [
        {
          "output_type": "execute_result",
          "data": {
            "text/plain": [
              "Text(0.5, 1.0, 'Kurva Rise Time Budget')"
            ]
          },
          "metadata": {
            "tags": []
          },
          "execution_count": 363
        },
        {
          "output_type": "display_data",
          "data": {
            "image/png": "[encoded data removed]",
            "text/plain": [
              "<Figure size 432x288 with 1 Axes>"
            ]
          },
          "metadata": {
            "tags": [],
            "needs_background": "light"
          }
        }
      ]
    },
    {
      "cell_type": "code",
      "metadata": {
        "id": "sILmOe0deGRW"
      },
      "source": [
        ""
      ],
      "execution_count": 355,
      "outputs": []
    }
  ]
}